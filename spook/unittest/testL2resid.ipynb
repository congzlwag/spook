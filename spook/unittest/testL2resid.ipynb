{
 "cells": [
  {
   "cell_type": "code",
   "execution_count": 1,
   "id": "fa893cf8",
   "metadata": {},
   "outputs": [],
   "source": [
    "# for auto-reloading extenrnal modules\n",
    "# see http://stackoverflow.com/questions/1907993/autoreload-of-modules-in-ipython\n",
    "%load_ext autoreload\n",
    "%autoreload 2"
   ]
  },
  {
   "cell_type": "code",
   "execution_count": 2,
   "id": "fc756a2e",
   "metadata": {},
   "outputs": [],
   "source": [
    "import numpy as np\n",
    "import scipy.sparse as sps\n",
    "import sys\n",
    "sys.path.append(\"../../\")"
   ]
  },
  {
   "cell_type": "code",
   "execution_count": 5,
   "id": "0135795d",
   "metadata": {},
   "outputs": [],
   "source": [
    "from spook import SpookBase"
   ]
  },
  {
   "cell_type": "code",
   "execution_count": 6,
   "id": "05b0dde3",
   "metadata": {},
   "outputs": [],
   "source": [
    "np.random.seed(1996)\n",
    "Ardm = np.random.randn(750,27)\n",
    "Xtrue = np.random.randn(27,17)\n",
    "G = np.random.rand(100,17)\n",
    "B0 = Ardm @ Xtrue\n",
    "B1 = B0 @ (G.T)\n"
   ]
  },
  {
   "cell_type": "code",
   "execution_count": 7,
   "id": "b74d13d8",
   "metadata": {},
   "outputs": [],
   "source": [
    "spkraw0 = SpookBase(B0, Ardm)\n",
    "spkraw1 = SpookBase(B1, Ardm, G=G)"
   ]
  },
  {
   "cell_type": "code",
   "execution_count": 8,
   "id": "550a04ac",
   "metadata": {},
   "outputs": [],
   "source": [
    "X0 = spkraw0.getXopt()\n",
    "X1 = spkraw1.getXopt()"
   ]
  },
  {
   "cell_type": "code",
   "execution_count": 9,
   "id": "e83fff6a",
   "metadata": {},
   "outputs": [],
   "source": [
    "spkraw0.verbose = True\n",
    "spkraw1.verbose = True"
   ]
  },
  {
   "cell_type": "code",
   "execution_count": 10,
   "id": "99e33c92",
   "metadata": {},
   "outputs": [
    {
     "name": "stdout",
     "output_type": "stream",
     "text": [
      "Terms in |residue|_2^2: quad=4e+05, lin=-7e+05, const=4e+05\n"
     ]
    },
    {
     "data": {
      "text/plain": [
       "0.0"
      ]
     },
     "execution_count": 10,
     "metadata": {},
     "output_type": "execute_result"
    }
   ],
   "source": [
    "spkraw0.residueL2()"
   ]
  },
  {
   "cell_type": "code",
   "execution_count": 11,
   "id": "ee258d0f",
   "metadata": {},
   "outputs": [
    {
     "name": "stdout",
     "output_type": "stream",
     "text": [
      "Terms in |residue|_2^2: quad=1e+07, lin=-2e+07, const=1e+07\n"
     ]
    },
    {
     "data": {
      "text/plain": [
       "6.103515625e-05"
      ]
     },
     "execution_count": 11,
     "metadata": {},
     "output_type": "execute_result"
    }
   ],
   "source": [
    "spkraw1.residueL2()"
   ]
  },
  {
   "cell_type": "code",
   "execution_count": 12,
   "id": "08c1fb3b",
   "metadata": {},
   "outputs": [],
   "source": [
    "AtA = Ardm.T @ Ardm\n",
    "AtB1G = Ardm.T @ B1 @ G\n",
    "GtG = G.T @ G"
   ]
  },
  {
   "cell_type": "code",
   "execution_count": 13,
   "id": "75fb73d5",
   "metadata": {},
   "outputs": [],
   "source": [
    "spkraw1c = SpookBase(AtB1G, AtA, 'contracted', GtG)"
   ]
  },
  {
   "cell_type": "code",
   "execution_count": 14,
   "id": "3fc453d4",
   "metadata": {},
   "outputs": [],
   "source": [
    "X1c = spkraw1c.getXopt()"
   ]
  },
  {
   "cell_type": "code",
   "execution_count": 15,
   "id": "70858d07",
   "metadata": {},
   "outputs": [],
   "source": [
    "trB1tB1 = (B1**2).sum()"
   ]
  },
  {
   "cell_type": "code",
   "execution_count": 16,
   "id": "1f826a1a",
   "metadata": {},
   "outputs": [
    {
     "data": {
      "text/plain": [
       "6.103515625e-05"
      ]
     },
     "execution_count": 16,
     "metadata": {},
     "output_type": "execute_result"
    }
   ],
   "source": [
    "spkraw1c.residueL2(trB1tB1)"
   ]
  },
  {
   "cell_type": "code",
   "execution_count": 17,
   "id": "4a3178e7",
   "metadata": {},
   "outputs": [],
   "source": [
    "Adct = {}\n",
    "B1dct = {}\n",
    "for i in range(Ardm.shape[0]):\n",
    "    Adct[i] = Ardm[i]\n",
    "    B1dct[i] = B1[i]"
   ]
  },
  {
   "cell_type": "code",
   "execution_count": 18,
   "id": "34deb6af",
   "metadata": {},
   "outputs": [],
   "source": [
    "spkdct1 = SpookBase(B1dct, Adct, \"raw\", G)"
   ]
  },
  {
   "cell_type": "code",
   "execution_count": 19,
   "id": "c1c3a0fb",
   "metadata": {},
   "outputs": [],
   "source": [
    "X1d = spkdct1.getXopt()"
   ]
  },
  {
   "cell_type": "code",
   "execution_count": 22,
   "id": "a9ed06f9",
   "metadata": {},
   "outputs": [
    {
     "data": {
      "text/plain": [
       "0.0"
      ]
     },
     "execution_count": 22,
     "metadata": {},
     "output_type": "execute_result"
    }
   ],
   "source": [
    "spkdct1.residueL2()"
   ]
  },
  {
   "cell_type": "code",
   "execution_count": 20,
   "id": "ed4e24e4",
   "metadata": {},
   "outputs": [
    {
     "data": {
      "text/plain": [
       "11082670.401153825"
      ]
     },
     "execution_count": 20,
     "metadata": {},
     "output_type": "execute_result"
    }
   ],
   "source": [
    "spkdct1._TrBtB"
   ]
  },
  {
   "cell_type": "code",
   "execution_count": 21,
   "id": "997d5b2c",
   "metadata": {},
   "outputs": [
    {
     "data": {
      "text/plain": [
       "11082670.401153827"
      ]
     },
     "execution_count": 21,
     "metadata": {},
     "output_type": "execute_result"
    }
   ],
   "source": [
    "spkraw1._TrBtB"
   ]
  },
  {
   "cell_type": "code",
   "execution_count": null,
   "id": "a291fdac",
   "metadata": {},
   "outputs": [],
   "source": []
  }
 ],
 "metadata": {
  "kernelspec": {
   "display_name": "Python 3",
   "language": "python",
   "name": "python3"
  },
  "language_info": {
   "codemirror_mode": {
    "name": "ipython",
    "version": 3
   },
   "file_extension": ".py",
   "mimetype": "text/x-python",
   "name": "python",
   "nbconvert_exporter": "python",
   "pygments_lexer": "ipython3",
   "version": "3.7.10"
  }
 },
 "nbformat": 4,
 "nbformat_minor": 5
}
