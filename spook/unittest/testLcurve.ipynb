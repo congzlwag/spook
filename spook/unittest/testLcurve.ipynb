{
 "cells": [
  {
   "cell_type": "code",
   "execution_count": 1,
   "id": "fa893cf8",
   "metadata": {},
   "outputs": [],
   "source": [
    "# for auto-reloading extenrnal modules\n",
    "# see http://stackoverflow.com/questions/1907993/autoreload-of-modules-in-ipython\n",
    "%load_ext autoreload\n",
    "%autoreload 2\n",
    "\n",
    "import numpy as np\n",
    "import scipy.sparse as sps\n",
    "from matplotlib import pyplot as plt\n",
    "import sys\n",
    "sys.path.append(\"../../\")"
   ]
  },
  {
   "cell_type": "code",
   "execution_count": 2,
   "id": "0135795d",
   "metadata": {},
   "outputs": [],
   "source": [
    "from spook import SpookLinSolve, SpookPosL1"
   ]
  },
  {
   "cell_type": "code",
   "execution_count": 3,
   "id": "05b0dde3",
   "metadata": {},
   "outputs": [],
   "source": [
    "Na = 37\n",
    "Nb = 29\n",
    "Ns = 10000\n",
    "Ng = 31\n",
    "\n",
    "A = np.random.rand(Ns, Na) * 5\n",
    "Xtrue = np.zeros((Na, Nb))\n",
    "bb, aa = np.meshgrid(np.arange(Nb), np.arange(Na))\n",
    "for p1, p2 in zip([1,-1],[1,-1]):\n",
    "    tmp = 0.1*(Na+Nb) - abs((aa - Na//2) + p1* (bb - Nb//2) - p2* 0.2*(Na+Nb))\n",
    "    tmp[tmp<0] = 0\n",
    "    Xtrue += tmp"
   ]
  },
  {
   "cell_type": "code",
   "execution_count": 4,
   "id": "e1d2934a",
   "metadata": {},
   "outputs": [
    {
     "data": {
      "text/plain": [
       "Text(0, 0.5, '$\\\\omega$')"
      ]
     },
     "execution_count": 4,
     "metadata": {},
     "output_type": "execute_result"
    },
    {
     "data": {
      "image/png": "[encoded data removed]",
      "text/plain": [
       "<Figure size 432x288 with 2 Axes>"
      ]
     },
     "metadata": {
      "needs_background": "light"
     },
     "output_type": "display_data"
    }
   ],
   "source": [
    "plt.pcolormesh(Xtrue)\n",
    "plt.colorbar()\n",
    "plt.title(\"Ground Truth\")\n",
    "plt.ylabel(\"$\\omega$\")"
   ]
  },
  {
   "cell_type": "code",
   "execution_count": 17,
   "id": "a5a044d8",
   "metadata": {},
   "outputs": [],
   "source": [
    "G = np.identity(Ng) - 0.2*np.diag(np.ones(Ng-1),k=-1) - 0.2*np.diag(np.ones(Ng-1),k=1)\n",
    "G = G[:,:Nb]\n",
    "\n",
    "B0 = A @ Xtrue\n",
    "B1 = B0 @ (G.T)\n",
    "B0 += 1e-3*np.linalg.norm(B0) * np.random.randn(*(B0.shape))\n",
    "B1 += 1e-3*np.linalg.norm(B1) * np.random.randn(*(B1.shape))"
   ]
  },
  {
   "cell_type": "code",
   "execution_count": 18,
   "id": "550a04ac",
   "metadata": {},
   "outputs": [],
   "source": [
    "SpookLinSolve.verbose = True\n",
    "spk0 = SpookLinSolve(B0, A, \"raw\", lsparse=0.1, lsmooth=(0.,0.0))\n",
    "spk1 = SpookLinSolve(B1, A, \"raw\", G, lsparse=0.1, lsmooth=(0.,0.0))"
   ]
  },
  {
   "cell_type": "code",
   "execution_count": 19,
   "id": "a1201972",
   "metadata": {},
   "outputs": [
    {
     "name": "stdout",
     "output_type": "stream",
     "text": [
      "Solving Lin. Eq.\n",
      "Solving Lin. Eq.\n"
     ]
    }
   ],
   "source": [
    "X0 = spk0.getXopt()\n",
    "X1 = spk1.getXopt()"
   ]
  },
  {
   "cell_type": "code",
   "execution_count": 20,
   "id": "99e33c92",
   "metadata": {
    "scrolled": true
   },
   "outputs": [
    {
     "data": {
      "text/plain": [
       "<matplotlib.colorbar.Colorbar at 0x7fe46eca3490>"
      ]
     },
     "execution_count": 20,
     "metadata": {},
     "output_type": "execute_result"
    },
    {
     "data": {
      "image/png": "[encoded data removed]",
      "text/plain": [
       "<Figure size 432x288 with 2 Axes>"
      ]
     },
     "metadata": {
      "needs_background": "light"
     },
     "output_type": "display_data"
    }
   ],
   "source": [
    "plt.pcolormesh(X0)\n",
    "plt.colorbar()"
   ]
  },
  {
   "cell_type": "code",
   "execution_count": 24,
   "id": "85df5cbf",
   "metadata": {
    "scrolled": true
   },
   "outputs": [
    {
     "name": "stdout",
     "output_type": "stream",
     "text": [
      "Solving Lin. Eq.\n",
      "Terms in |residue|_2^2: quad=9e+09, lin=-2e+10, const=1e+10\n",
      "Solving Lin. Eq.\n",
      "Terms in |residue|_2^2: quad=9e+09, lin=-2e+10, const=1e+10\n",
      "Solving Lin. Eq.\n",
      "Terms in |residue|_2^2: quad=9e+09, lin=-2e+10, const=1e+10\n",
      "Solving Lin. Eq.\n",
      "Terms in |residue|_2^2: quad=9e+09, lin=-2e+10, const=1e+10\n",
      "Solving Lin. Eq.\n",
      "Terms in |residue|_2^2: quad=9e+09, lin=-2e+10, const=1e+10\n",
      "Solving Lin. Eq.\n",
      "Terms in |residue|_2^2: quad=9e+09, lin=-2e+10, const=1e+10\n",
      "Solving Lin. Eq.\n",
      "Terms in |residue|_2^2: quad=9e+09, lin=-2e+10, const=1e+10\n",
      "Solving Lin. Eq.\n",
      "Terms in |residue|_2^2: quad=9e+09, lin=-2e+10, const=1e+10\n",
      "Solving Lin. Eq.\n",
      "Terms in |residue|_2^2: quad=9e+09, lin=-2e+10, const=1e+10\n",
      "Solving Lin. Eq.\n",
      "Terms in |residue|_2^2: quad=9e+09, lin=-2e+10, const=1e+10\n",
      "Solving Lin. Eq.\n",
      "Terms in |residue|_2^2: quad=9e+09, lin=-2e+10, const=1e+10\n",
      "Solving Lin. Eq.\n",
      "Terms in |residue|_2^2: quad=9e+09, lin=-2e+10, const=1e+10\n",
      "Solving Lin. Eq.\n",
      "Terms in |residue|_2^2: quad=9e+09, lin=-2e+10, const=1e+10\n",
      "Solving Lin. Eq.\n",
      "Terms in |residue|_2^2: quad=9e+09, lin=-2e+10, const=1e+10\n",
      "Solving Lin. Eq.\n",
      "Terms in |residue|_2^2: quad=9e+09, lin=-2e+10, const=1e+10\n",
      "Solving Lin. Eq.\n",
      "Terms in |residue|_2^2: quad=9e+09, lin=-2e+10, const=1e+10\n",
      "Solving Lin. Eq.\n",
      "Terms in |residue|_2^2: quad=9e+09, lin=-2e+10, const=1e+10\n",
      "Solving Lin. Eq.\n",
      "Terms in |residue|_2^2: quad=9e+09, lin=-2e+10, const=1e+10\n",
      "Solving Lin. Eq.\n",
      "Terms in |residue|_2^2: quad=9e+09, lin=-2e+10, const=1e+10\n",
      "Solving Lin. Eq.\n",
      "Terms in |residue|_2^2: quad=9e+09, lin=-2e+10, const=1e+10\n",
      "Solving Lin. Eq.\n",
      "Terms in |residue|_2^2: quad=9e+09, lin=-2e+10, const=1e+10\n",
      "Solving Lin. Eq.\n",
      "Terms in |residue|_2^2: quad=9e+09, lin=-2e+10, const=1e+10\n",
      "Solving Lin. Eq.\n",
      "Terms in |residue|_2^2: quad=9e+09, lin=-2e+10, const=1e+10\n",
      "Solving Lin. Eq.\n",
      "Terms in |residue|_2^2: quad=9e+09, lin=-2e+10, const=1e+10\n",
      "Solving Lin. Eq.\n",
      "Terms in |residue|_2^2: quad=9e+09, lin=-2e+10, const=1e+10\n",
      "Solving Lin. Eq.\n",
      "Terms in |residue|_2^2: quad=9e+09, lin=-2e+10, const=1e+10\n",
      "Solving Lin. Eq.\n",
      "Terms in |residue|_2^2: quad=9e+09, lin=-2e+10, const=1e+10\n",
      "Solving Lin. Eq.\n",
      "Terms in |residue|_2^2: quad=9e+09, lin=-2e+10, const=1e+10\n",
      "Solving Lin. Eq.\n",
      "Terms in |residue|_2^2: quad=9e+09, lin=-2e+10, const=1e+10\n",
      "Solving Lin. Eq.\n",
      "Terms in |residue|_2^2: quad=9e+09, lin=-2e+10, const=1e+10\n",
      "Solving Lin. Eq.\n",
      "Terms in |residue|_2^2: quad=8e+09, lin=-2e+10, const=1e+10\n",
      "Solving Lin. Eq.\n",
      "Terms in |residue|_2^2: quad=8e+09, lin=-2e+10, const=1e+10\n",
      "Solving Lin. Eq.\n",
      "Terms in |residue|_2^2: quad=8e+09, lin=-2e+10, const=1e+10\n",
      "Solving Lin. Eq.\n",
      "Terms in |residue|_2^2: quad=7e+09, lin=-2e+10, const=1e+10\n",
      "Solving Lin. Eq.\n",
      "Terms in |residue|_2^2: quad=6e+09, lin=-1e+10, const=1e+10\n",
      "Solving Lin. Eq.\n",
      "Terms in |residue|_2^2: quad=4e+09, lin=-1e+10, const=1e+10\n",
      "Solving Lin. Eq.\n",
      "Terms in |residue|_2^2: quad=3e+09, lin=-1e+10, const=1e+10\n",
      "Solving Lin. Eq.\n",
      "Terms in |residue|_2^2: quad=1e+09, lin=-7e+09, const=1e+10\n",
      "Solving Lin. Eq.\n",
      "Terms in |residue|_2^2: quad=6e+08, lin=-5e+09, const=1e+10\n",
      "Solving Lin. Eq.\n",
      "Terms in |residue|_2^2: quad=2e+08, lin=-3e+09, const=1e+10\n",
      "Solving Lin. Eq.\n",
      "Terms in |residue|_2^2: quad=9e+07, lin=-2e+09, const=1e+10\n",
      "Solving Lin. Eq.\n",
      "Terms in |residue|_2^2: quad=3e+07, lin=-1e+09, const=1e+10\n",
      "Solving Lin. Eq.\n",
      "Terms in |residue|_2^2: quad=9e+06, lin=-6e+08, const=1e+10\n",
      "Solving Lin. Eq.\n",
      "Terms in |residue|_2^2: quad=3e+06, lin=-3e+08, const=1e+10\n",
      "Solving Lin. Eq.\n",
      "Terms in |residue|_2^2: quad=9e+05, lin=-2e+08, const=1e+10\n",
      "Solving Lin. Eq.\n",
      "Terms in |residue|_2^2: quad=3e+05, lin=-1e+08, const=1e+10\n",
      "Solving Lin. Eq.\n",
      "Terms in |residue|_2^2: quad=8e+04, lin=-5e+07, const=1e+10\n",
      "Solving Lin. Eq.\n",
      "Terms in |residue|_2^2: quad=2e+04, lin=-3e+07, const=1e+10\n",
      "Solving Lin. Eq.\n",
      "Terms in |residue|_2^2: quad=8e+03, lin=-2e+07, const=1e+10\n",
      "Solving Lin. Eq.\n",
      "Terms in |residue|_2^2: quad=2e+03, lin=-9e+06, const=1e+10\n",
      "Solving Lin. Eq.\n",
      "Terms in |residue|_2^2: quad=7e+02, lin=-5e+06, const=1e+10\n",
      "0.45000000000000107\n",
      "Solving Lin. Eq.\n"
     ]
    },
    {
     "data": {
      "image/png": "[encoded data removed]",
      "text/plain": [
       "<Figure size 576x288 with 4 Axes>"
      ]
     },
     "metadata": {
      "needs_background": "light"
     },
     "output_type": "display_data"
    }
   ],
   "source": [
    "lsp_ = np.logspace(-8,5,51)\n",
    "res, curv_dat = spk0.scan_lsparse(lsp_,True,True)"
   ]
  },
  {
   "cell_type": "code",
   "execution_count": 25,
   "id": "2c63b92d",
   "metadata": {
    "scrolled": true
   },
   "outputs": [
    {
     "data": {
      "text/plain": [
       "<matplotlib.colorbar.Colorbar at 0x7fe46ef1bed0>"
      ]
     },
     "execution_count": 25,
     "metadata": {},
     "output_type": "execute_result"
    },
    {
     "data": {
      "image/png": "[encoded data removed]",
      "text/plain": [
       "<Figure size 432x288 with 2 Axes>"
      ]
     },
     "metadata": {
      "needs_background": "light"
     },
     "output_type": "display_data"
    }
   ],
   "source": [
    "X0 = spk0.getXopt()\n",
    "plt.pcolormesh(X0)\n",
    "plt.colorbar()"
   ]
  },
  {
   "cell_type": "code",
   "execution_count": 26,
   "id": "86f9c040",
   "metadata": {
    "scrolled": true
   },
   "outputs": [
    {
     "name": "stdout",
     "output_type": "stream",
     "text": [
      "Updated\n",
      "Solving Lin. Eq.\n",
      "Updated\n",
      "Solving Lin. Eq.\n",
      "Updated\n",
      "Solving Lin. Eq.\n",
      "Updated\n",
      "Solving Lin. Eq.\n",
      "Updated\n",
      "Solving Lin. Eq.\n",
      "Updated\n",
      "Solving Lin. Eq.\n",
      "Updated\n",
      "Solving Lin. Eq.\n",
      "Updated\n",
      "Solving Lin. Eq.\n",
      "Updated\n",
      "Solving Lin. Eq.\n",
      "Updated\n",
      "Solving Lin. Eq.\n",
      "Updated\n",
      "Solving Lin. Eq.\n",
      "Updated\n",
      "Solving Lin. Eq.\n",
      "Updated\n",
      "Solving Lin. Eq.\n",
      "Updated\n",
      "Solving Lin. Eq.\n",
      "Updated\n",
      "Solving Lin. Eq.\n",
      "Updated\n",
      "Solving Lin. Eq.\n",
      "Updated\n",
      "Solving Lin. Eq.\n",
      "Updated\n",
      "Solving Lin. Eq.\n",
      "Updated\n",
      "Solving Lin. Eq.\n",
      "Updated\n",
      "Solving Lin. Eq.\n",
      "Updated\n",
      "Solving Lin. Eq.\n",
      "Updated\n",
      "Solving Lin. Eq.\n",
      "Updated\n",
      "Solving Lin. Eq.\n",
      "Updated\n",
      "Solving Lin. Eq.\n",
      "Updated\n",
      "Solving Lin. Eq.\n",
      "Updated\n",
      "Solving Lin. Eq.\n",
      "Updated\n",
      "Solving Lin. Eq.\n",
      "Updated\n",
      "Solving Lin. Eq.\n",
      "Updated\n",
      "Solving Lin. Eq.\n",
      "Updated\n",
      "Solving Lin. Eq.\n",
      "Updated\n",
      "Solving Lin. Eq.\n",
      "Updated\n",
      "Solving Lin. Eq.\n",
      "Updated\n",
      "Solving Lin. Eq.\n",
      "Updated\n",
      "Solving Lin. Eq.\n",
      "Updated\n",
      "Solving Lin. Eq.\n",
      "Updated\n",
      "Solving Lin. Eq.\n",
      "Updated\n",
      "Solving Lin. Eq.\n",
      "Updated\n",
      "Solving Lin. Eq.\n",
      "Updated\n",
      "Solving Lin. Eq.\n",
      "Updated\n",
      "Solving Lin. Eq.\n",
      "Updated\n",
      "Solving Lin. Eq.\n",
      "Updated\n",
      "Solving Lin. Eq.\n",
      "Updated\n",
      "Solving Lin. Eq.\n",
      "Updated\n",
      "Solving Lin. Eq.\n",
      "Updated\n",
      "Solving Lin. Eq.\n",
      "Updated\n",
      "Solving Lin. Eq.\n",
      "Updated\n",
      "Solving Lin. Eq.\n",
      "Updated\n",
      "Solving Lin. Eq.\n",
      "Updated\n",
      "Solving Lin. Eq.\n",
      "Updated\n",
      "Solving Lin. Eq.\n",
      "Updated\n",
      "Solving Lin. Eq.\n",
      "Updated\n",
      "Solving Lin. Eq.\n",
      "Updated\n",
      "Solving Lin. Eq.\n",
      "Updated\n",
      "Solving Lin. Eq.\n",
      "Updated\n",
      "Solving Lin. Eq.\n"
     ]
    },
    {
     "data": {
      "text/plain": [
       "[<matplotlib.lines.Line2D at 0x7fe46f13f250>]"
      ]
     },
     "execution_count": 26,
     "metadata": {},
     "output_type": "execute_result"
    },
    {
     "data": {
      "image/png": "[encoded data removed]",
      "text/plain": [
       "<Figure size 432x288 with 1 Axes>"
      ]
     },
     "metadata": {
      "needs_background": "light"
     },
     "output_type": "display_data"
    }
   ],
   "source": [
    "diff = []\n",
    "for lglsp in curv_dat[:,0]:\n",
    "    Xo = spk0.getXopt(10**lglsp,None)\n",
    "    diff.append(np.linalg.norm(Xtrue-Xo,ord='fro'))\n",
    "\n",
    "plt.plot(curv_dat[:,0], diff)"
   ]
  },
  {
   "cell_type": "code",
   "execution_count": null,
   "id": "a2a3c876",
   "metadata": {},
   "outputs": [],
   "source": []
  },
  {
   "cell_type": "code",
   "execution_count": 27,
   "id": "ffc62444",
   "metadata": {},
   "outputs": [
    {
     "name": "stdout",
     "output_type": "stream",
     "text": [
      "Setting up the OSQP problem\n",
      "Setting up the OSQP problem\n"
     ]
    }
   ],
   "source": [
    "SpookPosL1.verbose = True\n",
    "spk0 = SpookPosL1(B0, A, \"raw\", lsparse=0.1, lsmooth=(0.,0.0))\n",
    "spk1 = SpookPosL1(B1, A, \"raw\", G, lsparse=0.1, lsmooth=(0.,0.0))"
   ]
  },
  {
   "cell_type": "code",
   "execution_count": 28,
   "id": "f1104e10",
   "metadata": {},
   "outputs": [],
   "source": [
    "spk0.set_polish()"
   ]
  },
  {
   "cell_type": "code",
   "execution_count": 30,
   "id": "2e0d0d2b",
   "metadata": {
    "scrolled": true
   },
   "outputs": [
    {
     "name": "stdout",
     "output_type": "stream",
     "text": [
      "Nonnegative constraints and L1 sparsity reg.\n",
      "Sparsity hyperparam updated.\n",
      "Solving Quad. Prog.\n",
      "Terms in |residue|_2^2: quad=9e+09, lin=-2e+10, const=1e+10\n",
      "Nonnegative constraints and L1 sparsity reg.\n",
      "Sparsity hyperparam updated.\n",
      "Solving Quad. Prog.\n",
      "Terms in |residue|_2^2: quad=9e+09, lin=-2e+10, const=1e+10\n",
      "Nonnegative constraints and L1 sparsity reg.\n",
      "Sparsity hyperparam updated.\n",
      "Solving Quad. Prog.\n",
      "Terms in |residue|_2^2: quad=9e+09, lin=-2e+10, const=1e+10\n",
      "Nonnegative constraints and L1 sparsity reg.\n",
      "Sparsity hyperparam updated.\n",
      "Solving Quad. Prog.\n",
      "Terms in |residue|_2^2: quad=9e+09, lin=-2e+10, const=1e+10\n",
      "Nonnegative constraints and L1 sparsity reg.\n",
      "Sparsity hyperparam updated.\n",
      "Solving Quad. Prog.\n",
      "Terms in |residue|_2^2: quad=9e+09, lin=-2e+10, const=1e+10\n",
      "Nonnegative constraints and L1 sparsity reg.\n",
      "Sparsity hyperparam updated.\n",
      "Solving Quad. Prog.\n",
      "Terms in |residue|_2^2: quad=9e+09, lin=-2e+10, const=1e+10\n",
      "Nonnegative constraints and L1 sparsity reg.\n",
      "Sparsity hyperparam updated.\n",
      "Solving Quad. Prog.\n",
      "Terms in |residue|_2^2: quad=9e+09, lin=-2e+10, const=1e+10\n",
      "Nonnegative constraints and L1 sparsity reg.\n",
      "Sparsity hyperparam updated.\n",
      "Solving Quad. Prog.\n",
      "Terms in |residue|_2^2: quad=9e+09, lin=-2e+10, const=1e+10\n",
      "Nonnegative constraints and L1 sparsity reg.\n",
      "Sparsity hyperparam updated.\n",
      "Solving Quad. Prog.\n",
      "Terms in |residue|_2^2: quad=9e+09, lin=-2e+10, const=1e+10\n",
      "Nonnegative constraints and L1 sparsity reg.\n",
      "Sparsity hyperparam updated.\n",
      "Solving Quad. Prog.\n",
      "Terms in |residue|_2^2: quad=9e+09, lin=-2e+10, const=1e+10\n",
      "Nonnegative constraints and L1 sparsity reg.\n",
      "Sparsity hyperparam updated.\n",
      "Solving Quad. Prog.\n",
      "Terms in |residue|_2^2: quad=9e+09, lin=-2e+10, const=1e+10\n",
      "Nonnegative constraints and L1 sparsity reg.\n",
      "Sparsity hyperparam updated.\n",
      "Solving Quad. Prog.\n",
      "Terms in |residue|_2^2: quad=9e+09, lin=-2e+10, const=1e+10\n",
      "Nonnegative constraints and L1 sparsity reg.\n",
      "Sparsity hyperparam updated.\n",
      "Solving Quad. Prog.\n",
      "Terms in |residue|_2^2: quad=9e+09, lin=-2e+10, const=1e+10\n",
      "Nonnegative constraints and L1 sparsity reg.\n",
      "Sparsity hyperparam updated.\n",
      "Solving Quad. Prog.\n",
      "Terms in |residue|_2^2: quad=9e+09, lin=-2e+10, const=1e+10\n",
      "Nonnegative constraints and L1 sparsity reg.\n",
      "Sparsity hyperparam updated.\n",
      "Solving Quad. Prog.\n",
      "Terms in |residue|_2^2: quad=9e+09, lin=-2e+10, const=1e+10\n",
      "Nonnegative constraints and L1 sparsity reg.\n",
      "Sparsity hyperparam updated.\n",
      "Solving Quad. Prog.\n",
      "Terms in |residue|_2^2: quad=9e+09, lin=-2e+10, const=1e+10\n",
      "Nonnegative constraints and L1 sparsity reg.\n",
      "Sparsity hyperparam updated.\n",
      "Solving Quad. Prog.\n",
      "Terms in |residue|_2^2: quad=9e+09, lin=-2e+10, const=1e+10\n",
      "Nonnegative constraints and L1 sparsity reg.\n",
      "Sparsity hyperparam updated.\n",
      "Solving Quad. Prog.\n",
      "Terms in |residue|_2^2: quad=9e+09, lin=-2e+10, const=1e+10\n",
      "Nonnegative constraints and L1 sparsity reg.\n",
      "Sparsity hyperparam updated.\n",
      "Solving Quad. Prog.\n",
      "Terms in |residue|_2^2: quad=9e+09, lin=-2e+10, const=1e+10\n",
      "Nonnegative constraints and L1 sparsity reg.\n",
      "Sparsity hyperparam updated.\n",
      "Solving Quad. Prog.\n",
      "Terms in |residue|_2^2: quad=9e+09, lin=-2e+10, const=1e+10\n",
      "Nonnegative constraints and L1 sparsity reg.\n",
      "Sparsity hyperparam updated.\n",
      "Solving Quad. Prog.\n",
      "Terms in |residue|_2^2: quad=9e+09, lin=-2e+10, const=1e+10\n",
      "Nonnegative constraints and L1 sparsity reg.\n",
      "Sparsity hyperparam updated.\n",
      "Solving Quad. Prog.\n",
      "Terms in |residue|_2^2: quad=9e+09, lin=-2e+10, const=1e+10\n",
      "Nonnegative constraints and L1 sparsity reg.\n",
      "Sparsity hyperparam updated.\n",
      "Solving Quad. Prog.\n",
      "Terms in |residue|_2^2: quad=9e+09, lin=-2e+10, const=1e+10\n",
      "Nonnegative constraints and L1 sparsity reg.\n",
      "Sparsity hyperparam updated.\n",
      "Solving Quad. Prog.\n",
      "Terms in |residue|_2^2: quad=9e+09, lin=-2e+10, const=1e+10\n",
      "Nonnegative constraints and L1 sparsity reg.\n",
      "Sparsity hyperparam updated.\n",
      "Solving Quad. Prog.\n",
      "Terms in |residue|_2^2: quad=9e+09, lin=-2e+10, const=1e+10\n",
      "Nonnegative constraints and L1 sparsity reg.\n",
      "Sparsity hyperparam updated.\n",
      "Solving Quad. Prog.\n",
      "Terms in |residue|_2^2: quad=9e+09, lin=-2e+10, const=1e+10\n",
      "Nonnegative constraints and L1 sparsity reg.\n",
      "Sparsity hyperparam updated.\n",
      "Solving Quad. Prog.\n",
      "Terms in |residue|_2^2: quad=9e+09, lin=-2e+10, const=1e+10\n",
      "Nonnegative constraints and L1 sparsity reg.\n",
      "Sparsity hyperparam updated.\n",
      "Solving Quad. Prog.\n",
      "Terms in |residue|_2^2: quad=9e+09, lin=-2e+10, const=1e+10\n",
      "Nonnegative constraints and L1 sparsity reg.\n",
      "Sparsity hyperparam updated.\n",
      "Solving Quad. Prog.\n",
      "Terms in |residue|_2^2: quad=9e+09, lin=-2e+10, const=1e+10\n",
      "Nonnegative constraints and L1 sparsity reg.\n",
      "Sparsity hyperparam updated.\n",
      "Solving Quad. Prog.\n",
      "Terms in |residue|_2^2: quad=9e+09, lin=-2e+10, const=1e+10\n",
      "Nonnegative constraints and L1 sparsity reg.\n",
      "Sparsity hyperparam updated.\n",
      "Solving Quad. Prog.\n",
      "Terms in |residue|_2^2: quad=9e+09, lin=-2e+10, const=1e+10\n",
      "Nonnegative constraints and L1 sparsity reg.\n",
      "Sparsity hyperparam updated.\n",
      "Solving Quad. Prog.\n",
      "Terms in |residue|_2^2: quad=9e+09, lin=-2e+10, const=1e+10\n",
      "Nonnegative constraints and L1 sparsity reg.\n",
      "Sparsity hyperparam updated.\n",
      "Solving Quad. Prog.\n",
      "Terms in |residue|_2^2: quad=9e+09, lin=-2e+10, const=1e+10\n",
      "Nonnegative constraints and L1 sparsity reg.\n",
      "Sparsity hyperparam updated.\n",
      "Solving Quad. Prog.\n",
      "Terms in |residue|_2^2: quad=9e+09, lin=-2e+10, const=1e+10\n",
      "Nonnegative constraints and L1 sparsity reg.\n",
      "Sparsity hyperparam updated.\n",
      "Solving Quad. Prog.\n",
      "Terms in |residue|_2^2: quad=9e+09, lin=-2e+10, const=1e+10\n",
      "Nonnegative constraints and L1 sparsity reg.\n",
      "Sparsity hyperparam updated.\n",
      "Solving Quad. Prog.\n",
      "Terms in |residue|_2^2: quad=9e+09, lin=-2e+10, const=1e+10\n",
      "Nonnegative constraints and L1 sparsity reg.\n",
      "Sparsity hyperparam updated.\n",
      "Solving Quad. Prog.\n",
      "Terms in |residue|_2^2: quad=9e+09, lin=-2e+10, const=1e+10\n",
      "Nonnegative constraints and L1 sparsity reg.\n",
      "Sparsity hyperparam updated.\n",
      "Solving Quad. Prog.\n",
      "Terms in |residue|_2^2: quad=9e+09, lin=-2e+10, const=1e+10\n",
      "Nonnegative constraints and L1 sparsity reg.\n",
      "Sparsity hyperparam updated.\n",
      "Solving Quad. Prog.\n",
      "Terms in |residue|_2^2: quad=9e+09, lin=-2e+10, const=1e+10\n",
      "Nonnegative constraints and L1 sparsity reg.\n",
      "Sparsity hyperparam updated.\n",
      "Solving Quad. Prog.\n",
      "Terms in |residue|_2^2: quad=9e+09, lin=-2e+10, const=1e+10\n",
      "Nonnegative constraints and L1 sparsity reg.\n",
      "Sparsity hyperparam updated.\n",
      "Solving Quad. Prog.\n",
      "Terms in |residue|_2^2: quad=9e+09, lin=-2e+10, const=1e+10\n",
      "Nonnegative constraints and L1 sparsity reg.\n",
      "Sparsity hyperparam updated.\n",
      "Solving Quad. Prog.\n",
      "Terms in |residue|_2^2: quad=9e+09, lin=-2e+10, const=1e+10\n",
      "Nonnegative constraints and L1 sparsity reg.\n",
      "Sparsity hyperparam updated.\n",
      "Solving Quad. Prog.\n",
      "Terms in |residue|_2^2: quad=9e+09, lin=-2e+10, const=1e+10\n",
      "Nonnegative constraints and L1 sparsity reg.\n",
      "Sparsity hyperparam updated.\n",
      "Solving Quad. Prog.\n",
      "Terms in |residue|_2^2: quad=9e+09, lin=-2e+10, const=1e+10\n",
      "Nonnegative constraints and L1 sparsity reg.\n",
      "Sparsity hyperparam updated.\n",
      "Solving Quad. Prog.\n",
      "Terms in |residue|_2^2: quad=9e+09, lin=-2e+10, const=1e+10\n",
      "Nonnegative constraints and L1 sparsity reg.\n",
      "Sparsity hyperparam updated.\n",
      "Solving Quad. Prog.\n",
      "Terms in |residue|_2^2: quad=9e+09, lin=-2e+10, const=1e+10\n",
      "Nonnegative constraints and L1 sparsity reg.\n",
      "Sparsity hyperparam updated.\n",
      "Solving Quad. Prog.\n",
      "Terms in |residue|_2^2: quad=8e+09, lin=-2e+10, const=1e+10\n",
      "Nonnegative constraints and L1 sparsity reg.\n",
      "Sparsity hyperparam updated.\n",
      "Solving Quad. Prog.\n",
      "Terms in |residue|_2^2: quad=8e+09, lin=-2e+10, const=1e+10\n",
      "Nonnegative constraints and L1 sparsity reg.\n",
      "Sparsity hyperparam updated.\n",
      "Solving Quad. Prog.\n",
      "Terms in |residue|_2^2: quad=7e+09, lin=-2e+10, const=1e+10\n",
      "Nonnegative constraints and L1 sparsity reg.\n",
      "Sparsity hyperparam updated.\n",
      "Solving Quad. Prog.\n",
      "Terms in |residue|_2^2: quad=6e+09, lin=-1e+10, const=1e+10\n",
      "Nonnegative constraints and L1 sparsity reg.\n",
      "Sparsity hyperparam updated.\n",
      "Solving Quad. Prog.\n",
      "Terms in |residue|_2^2: quad=5e+09, lin=-1e+10, const=1e+10\n",
      "1.959999999999999\n",
      "Nonnegative constraints and L1 sparsity reg.\n",
      "Sparsity hyperparam updated.\n",
      "Solving Quad. Prog.\n"
     ]
    },
    {
     "data": {
      "image/png": "[encoded data removed]",
      "text/plain": [
       "<Figure size 576x288 with 4 Axes>"
      ]
     },
     "metadata": {
      "needs_background": "light"
     },
     "output_type": "display_data"
    }
   ],
   "source": [
    "lsp_ = np.logspace(-8,4,51)\n",
    "res, curv_dat = spk0.scan_lsparse(lsp_, plot=True)"
   ]
  },
  {
   "cell_type": "code",
   "execution_count": 31,
   "id": "00422fb0",
   "metadata": {
    "scrolled": true
   },
   "outputs": [
    {
     "data": {
      "text/plain": [
       "<matplotlib.colorbar.Colorbar at 0x7fe46c2cb750>"
      ]
     },
     "execution_count": 31,
     "metadata": {},
     "output_type": "execute_result"
    },
    {
     "data": {
      "image/png": "[encoded data removed]",
      "text/plain": [
       "<Figure size 432x288 with 2 Axes>"
      ]
     },
     "metadata": {
      "needs_background": "light"
     },
     "output_type": "display_data"
    }
   ],
   "source": [
    "X0 = spk0.getXopt()\n",
    "plt.pcolormesh(X0)\n",
    "plt.colorbar()"
   ]
  },
  {
   "cell_type": "code",
   "execution_count": 33,
   "id": "b82c0188",
   "metadata": {},
   "outputs": [
    {
     "name": "stdout",
     "output_type": "stream",
     "text": [
      "Sparsity hyperparam updated.\n",
      "Updated\n",
      "Nonnegative constraints and L1 sparsity reg.\n",
      "Solving Quad. Prog.\n"
     ]
    },
    {
     "data": {
      "text/plain": [
       "<matplotlib.colorbar.Colorbar at 0x7fe46ca55fd0>"
      ]
     },
     "execution_count": 33,
     "metadata": {},
     "output_type": "execute_result"
    },
    {
     "data": {
      "image/png": "[encoded data removed]",
      "text/plain": [
       "<Figure size 432x288 with 2 Axes>"
      ]
     },
     "metadata": {
      "needs_background": "light"
     },
     "output_type": "display_data"
    }
   ],
   "source": [
    "X0 = spk0.getXopt(0,None)\n",
    "plt.pcolormesh(X0)\n",
    "plt.colorbar()"
   ]
  },
  {
   "cell_type": "code",
   "execution_count": 38,
   "id": "4585929e",
   "metadata": {},
   "outputs": [],
   "source": [
    "AtBG = A.T @ B1 @ G\n",
    "AtA  = A.T @ A\n",
    "GtG  = G.T @ G"
   ]
  },
  {
   "cell_type": "code",
   "execution_count": 39,
   "id": "5745a986",
   "metadata": {},
   "outputs": [],
   "source": [
    "spk1c = SpookLinSolve(AtBG, AtA, 'contracted', GtG, lsparse=0.1, lsmooth=(0.,0.0))"
   ]
  },
  {
   "cell_type": "code",
   "execution_count": 34,
   "id": "9d29d08b",
   "metadata": {},
   "outputs": [],
   "source": [
    "spk1 = SpookLinSolve(B1, A, \"raw\", G, lsparse=0.1, lsmooth=(0.,0.0))"
   ]
  },
  {
   "cell_type": "code",
   "execution_count": 40,
   "id": "349e4747",
   "metadata": {},
   "outputs": [
    {
     "name": "stdout",
     "output_type": "stream",
     "text": [
      "Solving Lin. Eq.\n",
      "Solving Lin. Eq.\n"
     ]
    }
   ],
   "source": [
    "X1 = spk1.getXopt()\n",
    "X1c = spk1c.getXopt()"
   ]
  },
  {
   "cell_type": "code",
   "execution_count": 45,
   "id": "d11c0a59",
   "metadata": {},
   "outputs": [
    {
     "data": {
      "text/plain": [
       "<matplotlib.colorbar.Colorbar at 0x7fe46e66ee10>"
      ]
     },
     "execution_count": 45,
     "metadata": {},
     "output_type": "execute_result"
    },
    {
     "data": {
      "image/png": "[encoded data removed]",
      "text/plain": [
       "<Figure size 432x288 with 4 Axes>"
      ]
     },
     "metadata": {
      "needs_background": "light"
     },
     "output_type": "display_data"
    }
   ],
   "source": [
    "fig, axs = plt.subplots(1,2,sharey=True)\n",
    "ax1 = axs[0]\n",
    "im=ax1.pcolormesh(X1)\n",
    "fig.colorbar(im, ax=ax1)\n",
    "ax2 = axs[1]\n",
    "im=ax2.pcolormesh(X1)\n",
    "fig.colorbar(im, ax=ax2)"
   ]
  },
  {
   "cell_type": "code",
   "execution_count": 46,
   "id": "711e9669",
   "metadata": {},
   "outputs": [
    {
     "data": {
      "text/plain": [
       "0.0"
      ]
     },
     "execution_count": 46,
     "metadata": {},
     "output_type": "execute_result"
    }
   ],
   "source": [
    "np.linalg.norm(X1-X1c,\"fro\")"
   ]
  },
  {
   "cell_type": "code",
   "execution_count": 48,
   "id": "da6ea466",
   "metadata": {},
   "outputs": [],
   "source": [
    "trBtB = (B1**2).sum()"
   ]
  },
  {
   "cell_type": "code",
   "execution_count": 51,
   "id": "443e5a64",
   "metadata": {},
   "outputs": [
    {
     "data": {
      "text/plain": [
       "(4403004038.465894, 4403004038.465892)"
      ]
     },
     "execution_count": 51,
     "metadata": {},
     "output_type": "execute_result"
    }
   ],
   "source": [
    "spk1._TrBtB, trBtB"
   ]
  },
  {
   "cell_type": "code",
   "execution_count": 53,
   "id": "704f621e",
   "metadata": {},
   "outputs": [
    {
     "name": "stdout",
     "output_type": "stream",
     "text": [
      "Terms in |residue|_2^2: quad=3e+09, lin=-7e+09, const=4e+09\n"
     ]
    },
    {
     "data": {
      "text/plain": [
       "32415.851568235008"
      ]
     },
     "execution_count": 53,
     "metadata": {},
     "output_type": "execute_result"
    }
   ],
   "source": [
    "spk1c.residueL2(trBtB)"
   ]
  },
  {
   "cell_type": "code",
   "execution_count": 54,
   "id": "c58dfec6",
   "metadata": {},
   "outputs": [
    {
     "name": "stdout",
     "output_type": "stream",
     "text": [
      "Terms in |residue|_2^2: quad=3e+09, lin=-7e+09, const=4e+09\n"
     ]
    },
    {
     "data": {
      "text/plain": [
       "32415.85156823504"
      ]
     },
     "execution_count": 54,
     "metadata": {},
     "output_type": "execute_result"
    }
   ],
   "source": [
    "spk1.residueL2()"
   ]
  },
  {
   "cell_type": "code",
   "execution_count": null,
   "id": "cf62a18e",
   "metadata": {},
   "outputs": [],
   "source": []
  }
 ],
 "metadata": {
  "kernelspec": {
   "display_name": "Python 3 (ipykernel)",
   "language": "python",
   "name": "python3"
  },
  "language_info": {
   "codemirror_mode": {
    "name": "ipython",
    "version": 3
   },
   "file_extension": ".py",
   "mimetype": "text/x-python",
   "name": "python",
   "nbconvert_exporter": "python",
   "pygments_lexer": "ipython3",
   "version": "3.9.10"
  }
 },
 "nbformat": 4,
 "nbformat_minor": 5
}
