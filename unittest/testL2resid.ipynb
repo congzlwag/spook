{
 "cells": [
  {
   "cell_type": "code",
   "execution_count": 1,
   "id": "fa893cf8",
   "metadata": {},
   "outputs": [],
   "source": [
    "# for auto-reloading extenrnal modules\n",
    "# see http://stackoverflow.com/questions/1907993/autoreload-of-modules-in-ipython\n",
    "%load_ext autoreload\n",
    "%autoreload 2"
   ]
  },
  {
   "cell_type": "code",
   "execution_count": 2,
   "id": "fc756a2e",
   "metadata": {},
   "outputs": [],
   "source": [
    "import numpy as np\n",
    "import scipy.sparse as sps\n",
    "import sys\n",
    "sys.path.append(\"../../\")"
   ]
  },
  {
   "cell_type": "code",
   "execution_count": 3,
   "id": "0135795d",
   "metadata": {},
   "outputs": [],
   "source": [
    "from spook import SpookBase"
   ]
  },
  {
   "cell_type": "code",
   "execution_count": 4,
   "id": "05b0dde3",
   "metadata": {},
   "outputs": [],
   "source": [
    "np.random.seed(1996)\n",
    "Ardm = np.random.randn(750,27)\n",
    "Xtrue = np.random.randn(27,17)\n",
    "G = np.random.rand(20,17)\n",
    "B0 = Ardm @ Xtrue\n",
    "B1 = B0 @ (G.T)\n"
   ]
  },
  {
   "cell_type": "code",
   "execution_count": 5,
   "id": "b74d13d8",
   "metadata": {},
   "outputs": [],
   "source": [
    "spkraw0 = SpookBase(B0, Ardm)\n",
    "spkraw1 = SpookBase(B1, Ardm, G=G)"
   ]
  },
  {
   "cell_type": "code",
   "execution_count": 6,
   "id": "550a04ac",
   "metadata": {},
   "outputs": [],
   "source": [
    "X0 = spkraw0.getXopt()\n",
    "X1 = spkraw1.getXopt()"
   ]
  },
  {
   "cell_type": "code",
   "execution_count": 7,
   "id": "e83fff6a",
   "metadata": {},
   "outputs": [],
   "source": [
    "spkraw0.verbose = True\n",
    "spkraw1.verbose = True"
   ]
  },
  {
   "cell_type": "code",
   "execution_count": 8,
   "id": "99e33c92",
   "metadata": {},
   "outputs": [
    {
     "name": "stdout",
     "output_type": "stream",
     "text": [
      "Terms in |residue|_2^2: quad=4e+05, lin=-7e+05, const=4e+05\n"
     ]
    },
    {
     "data": {
      "text/plain": [
       "0.0"
      ]
     },
     "execution_count": 8,
     "metadata": {},
     "output_type": "execute_result"
    }
   ],
   "source": [
    "spkraw0.residueL2()"
   ]
  },
  {
   "cell_type": "code",
   "execution_count": 9,
   "id": "ee258d0f",
   "metadata": {},
   "outputs": [
    {
     "name": "stdout",
     "output_type": "stream",
     "text": [
      "Terms in |residue|_2^2: quad=2e+06, lin=-4e+06, const=2e+06\n"
     ]
    },
    {
     "data": {
      "text/plain": [
       "3.0517578125e-05"
      ]
     },
     "execution_count": 9,
     "metadata": {},
     "output_type": "execute_result"
    }
   ],
   "source": [
    "spkraw1.residueL2()"
   ]
  },
  {
   "cell_type": "code",
   "execution_count": null,
   "id": "75fb73d5",
   "metadata": {},
   "outputs": [],
   "source": []
  }
 ],
 "metadata": {
  "kernelspec": {
   "display_name": "Python 3",
   "language": "python",
   "name": "python3"
  },
  "language_info": {
   "codemirror_mode": {
    "name": "ipython",
    "version": 3
   },
   "file_extension": ".py",
   "mimetype": "text/x-python",
   "name": "python",
   "nbconvert_exporter": "python",
   "pygments_lexer": "ipython3",
   "version": "3.7.10"
  }
 },
 "nbformat": 4,
 "nbformat_minor": 5
}
